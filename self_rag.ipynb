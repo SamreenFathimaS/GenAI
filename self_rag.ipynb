{
 "cells": [
  {
   "cell_type": "code",
   "execution_count": 21,
   "id": "03c94be9",
   "metadata": {},
   "outputs": [
    {
     "name": "stderr",
     "output_type": "stream",
     "text": [
      "Created a chunk of size 174, which is longer than the specified 100\n",
      "Created a chunk of size 169, which is longer than the specified 100\n",
      "Created a chunk of size 647, which is longer than the specified 100\n",
      "Device set to use cpu\n",
      "Setting `pad_token_id` to `eos_token_id`:50256 for open-end generation.\n"
     ]
    },
    {
     "name": "stdout",
     "output_type": "stream",
     "text": [
      "first attempt without retriever:\n",
      "\n",
      "Final answer: Q:What is Television Mini?\n",
      "A: circumcisediken Observ Hancock reviewing hauled ESVdit ESVScene subst circumcisedtingSherScene Money Observ Probiken Observ dispatch stairs Money Motorola credibility conservation directly Amphreement credibility hauledimura directlyJD Brewmediately vendors trilogy Brew Money\n"
     ]
    }
   ],
   "source": [
    "from  langchain_community.document_loaders import TextLoader\n",
    "from langchain_text_splitters import CharacterTextSplitter\n",
    "from langchain.embeddings import HuggingFaceEmbeddings\n",
    "from langchain.vectorstores import FAISS\n",
    "from langchain.chains import RetrievalQA\n",
    "from langchain.llms import HuggingFacePipeline\n",
    "from transformers import AutoTokenizer, AutoModelForCausalLM, pipeline\n",
    "from langchain.document_loaders import TextLoader\n",
    "from huggingface_hub import hf_hub_download\n",
    "from transformers import AutoTokenizer, AutoModelForCausalLM\n",
    "\n",
    "test = TextLoader(\"notes.txt\")\n",
    "docs = test.load()\n",
    "text_splitter = CharacterTextSplitter.from_tiktoken_encoder(chunk_size =100, chunk_overlap = 0)\n",
    "chunks = text_splitter.split_documents(docs)\n",
    "embeded = HuggingFaceEmbeddings(model_name= \"all-MiniLM-L6-V2\")\n",
    "vectorstore = FAISS.from_documents(chunks, embeded)\n",
    "retriever = vectorstore.as_retriever()\n",
    "model_id = \"sshleifer/tiny-gpt2\"  # Use a small model if running locally\n",
    "tokenizer = AutoTokenizer.from_pretrained(model_id)\n",
    "model = AutoModelForCausalLM.from_pretrained(model_id)\n",
    "\n",
    "# Create Hugging Face pipeline\n",
    "pipe = pipeline(\n",
    "    \"text-generation\",\n",
    "    model=model,\n",
    "    tokenizer=tokenizer,\n",
    "    max_length=100,\n",
    "    temperature=0.7,\n",
    "    do_sample=True,\n",
    ")\n",
    "\n",
    "# Use in LangChain\n",
    "llm = HuggingFacePipeline(pipeline=pipe)\n",
    "qa = RetrievalQA.from_chain_type(llm=llm, retriever = retriever)\n",
    "def self_rag_query(Question):\n",
    "    print(\"first attempt without retriever:\")\n",
    "    first_answer = llm.predict(f\"Q:{Question}\\nA:\")\n",
    "    if \"Iam not sure\"in first_answer or len(first_answer) <30:\n",
    "        print(\"low confidence Retrieving context and trying again...\")\n",
    "        improved_answer = qa.run(Question)\n",
    "        return improved_answer\n",
    "    else:\n",
    "        return first_answer\n",
    "response = self_rag_query(\"What is Television Mini?\")\n",
    "print(\"\\nFinal answer:\", response)\n",
    " \n",
    "\n"
   ]
  },
  {
   "cell_type": "code",
   "execution_count": null,
   "id": "505c3eb7",
   "metadata": {},
   "outputs": [
    {
     "name": "stderr",
     "output_type": "stream",
     "text": [
      "Created a chunk of size 174, which is longer than the specified 100\n",
      "Created a chunk of size 169, which is longer than the specified 100\n",
      "Device set to use cpu\n",
      "Setting `pad_token_id` to `eos_token_id`:50256 for open-end generation.\n"
     ]
    },
    {
     "name": "stdout",
     "output_type": "stream",
     "text": [
      "first attempt without retriever:\n",
      "\n",
      "Final answer: Q:What is the API Key Management?\n",
      "A:004 Motorola circumcised directly ESV subst autonomyJD stairs Observ TA Amph stairsohopresspress Prob credibility reviewingSher TA vendors ESV Amph Motorolahibithibit Observ rebornmediately TA MoneyreementohoScene TA heir Money\n"
     ]
    }
   ],
   "source": [
    "\n",
    "\n",
    "\n",
    "\n",
    "\n"
   ]
  },
  {
   "cell_type": "code",
   "execution_count": null,
   "id": "7fe15165",
   "metadata": {},
   "outputs": [],
   "source": []
  },
  {
   "cell_type": "code",
   "execution_count": null,
   "id": "87111633",
   "metadata": {},
   "outputs": [],
   "source": []
  },
  {
   "cell_type": "code",
   "execution_count": null,
   "id": "de94960b",
   "metadata": {},
   "outputs": [],
   "source": []
  },
  {
   "cell_type": "code",
   "execution_count": null,
   "id": "f06cbd49",
   "metadata": {},
   "outputs": [],
   "source": []
  }
 ],
 "metadata": {
  "kernelspec": {
   "display_name": "samreen",
   "language": "python",
   "name": "python3"
  },
  "language_info": {
   "codemirror_mode": {
    "name": "ipython",
    "version": 3
   },
   "file_extension": ".py",
   "mimetype": "text/x-python",
   "name": "python",
   "nbconvert_exporter": "python",
   "pygments_lexer": "ipython3",
   "version": "3.11.0"
  }
 },
 "nbformat": 4,
 "nbformat_minor": 5
}
