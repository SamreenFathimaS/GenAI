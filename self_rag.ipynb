{
 "cells": [
  {
   "cell_type": "code",
   "execution_count": 11,
   "id": "03c94be9",
   "metadata": {},
   "outputs": [
    {
     "name": "stderr",
     "output_type": "stream",
     "text": [
      "Created a chunk of size 292, which is longer than the specified 100\n",
      "Created a chunk of size 351, which is longer than the specified 100\n",
      "Created a chunk of size 117, which is longer than the specified 100\n",
      "Device set to use cpu\n"
     ]
    },
    {
     "name": "stdout",
     "output_type": "stream",
     "text": [
      "first attempt without retriever:\n"
     ]
    },
    {
     "name": "stderr",
     "output_type": "stream",
     "text": [
      "Token indices sequence length is longer than the specified maximum sequence length for this model (1144 > 512). Running this sequence through the model will result in indexing errors\n"
     ]
    },
    {
     "name": "stdout",
     "output_type": "stream",
     "text": [
      "low confidence Retrieving context and trying again...\n",
      "\n",
      "Final answer: of supervised learning: Principles of Generative AI A Technical Introduction Generative AI tools are an emerging class of new-age artificial intelligence algorithms capable of producing novel content . supervised learning is an emerging class of new-age artificial intelligence algorithms capable of producing novel content — in varied formats such as text, audio, video, pictures, and code . this report focuses almost exclusively on large language models (LLMs) capable of generating novel content \n"
     ]
    }
   ],
   "source": [
    "from  langchain_community.document_loaders import TextLoader\n",
    "from langchain_text_splitters import CharacterTextSplitter\n",
    "from langchain.embeddings import HuggingFaceEmbeddings\n",
    "from langchain.vectorstores import FAISS\n",
    "from langchain.chains import RetrievalQA\n",
    "from langchain.llms import HuggingFacePipeline\n",
    "from transformers import AutoTokenizer, AutoModelForCausalLM, pipeline\n",
    "from langchain.document_loaders import TextLoader\n",
    "from huggingface_hub import hf_hub_download\n",
    "from transformers import AutoTokenizer, AutoModelForCausalLM\n",
    "from transformers import AutoTokenizer, AutoModelForSeq2SeqLM\n",
    "\n",
    "\n",
    "loader = TextLoader(\"notes.txt\", encoding=\"utf-8\")\n",
    "docs = loader.load()\n",
    "text_splitter = CharacterTextSplitter.from_tiktoken_encoder(chunk_size =100, chunk_overlap = 0)\n",
    "chunks = text_splitter.split_documents(docs)\n",
    "embeded = HuggingFaceEmbeddings(model_name= \"all-MiniLM-L6-V2\")\n",
    "vectorstore = FAISS.from_documents(chunks, embeded)\n",
    "retriever = vectorstore.as_retriever()\n",
    "\n",
    "tokenizer = AutoTokenizer.from_pretrained(\"t5-small\")\n",
    "model = AutoModelForSeq2SeqLM.from_pretrained(\"t5-small\")\n",
    "\n",
    "# Step 2: Create the pipeline (text2text-generation, not text-generation)\n",
    "pipe = pipeline(\n",
    "    \"text2text-generation\",\n",
    "    model=model,\n",
    "    tokenizer=tokenizer,\n",
    "    max_length=100,\n",
    "    temperature=0.7,\n",
    "    do_sample=True,\n",
    ")\n",
    "\n",
    "# Use in LangChain\n",
    "llm = HuggingFacePipeline(pipeline=pipe)\n",
    "qa = RetrievalQA.from_chain_type(llm=llm, retriever = retriever)\n",
    "def self_rag_query(Question):\n",
    "    print(\"first attempt without retriever:\")\n",
    "    first_answer = llm.predict(f\"Q:{Question}\\nA:\")\n",
    "    if \"Iam not sure\"in first_answer or len(first_answer) <30:\n",
    "        print(\"low confidence Retrieving context and trying again...\")\n",
    "        improved_answer = qa.run(Question)\n",
    "        return improved_answer\n",
    "    else:\n",
    "        return first_answer\n",
    "response = self_rag_query(\"principle of GEN AI?\")\n",
    "print(\"\\nFinal answer:\", response)\n",
    " \n",
    "\n"
   ]
  },
  {
   "cell_type": "code",
   "execution_count": null,
   "id": "505c3eb7",
   "metadata": {},
   "outputs": [],
   "source": [
    "\n",
    "\n",
    "\n",
    "\n",
    "\n"
   ]
  },
  {
   "cell_type": "code",
   "execution_count": null,
   "id": "7fe15165",
   "metadata": {},
   "outputs": [],
   "source": []
  },
  {
   "cell_type": "code",
   "execution_count": null,
   "id": "87111633",
   "metadata": {},
   "outputs": [],
   "source": []
  },
  {
   "cell_type": "code",
   "execution_count": null,
   "id": "de94960b",
   "metadata": {},
   "outputs": [],
   "source": []
  },
  {
   "cell_type": "code",
   "execution_count": null,
   "id": "f06cbd49",
   "metadata": {},
   "outputs": [],
   "source": []
  }
 ],
 "metadata": {
  "kernelspec": {
   "display_name": "samreen",
   "language": "python",
   "name": "python3"
  },
  "language_info": {
   "codemirror_mode": {
    "name": "ipython",
    "version": 3
   },
   "file_extension": ".py",
   "mimetype": "text/x-python",
   "name": "python",
   "nbconvert_exporter": "python",
   "pygments_lexer": "ipython3",
   "version": "3.11.0"
  }
 },
 "nbformat": 4,
 "nbformat_minor": 5
}
